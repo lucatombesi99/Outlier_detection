{
  "nbformat": 4,
  "nbformat_minor": 0,
  "metadata": {
    "colab": {
      "provenance": [],
      "collapsed_sections": [
        "wbGzUNNHjnck",
        "4A-YnvpTEd4Y"
      ],
      "authorship_tag": "ABX9TyOIOXuBJswUR/81bg+lswXw",
      "include_colab_link": true
    },
    "kernelspec": {
      "name": "python3",
      "display_name": "Python 3"
    },
    "language_info": {
      "name": "python"
    }
  },
  "cells": [
    {
      "cell_type": "markdown",
      "metadata": {
        "id": "view-in-github",
        "colab_type": "text"
      },
      "source": [
        "<a href=\"https://colab.research.google.com/github/lucatombesi99/Outlier_detection/blob/main/Outlier_detection.ipynb\" target=\"_parent\"><img src=\"https://colab.research.google.com/assets/colab-badge.svg\" alt=\"Open In Colab\"/></a>"
      ]
    },
    {
      "cell_type": "code",
      "execution_count": null,
      "metadata": {
        "colab": {
          "base_uri": "https://localhost:8080/"
        },
        "id": "V3DM61eaCx_t",
        "outputId": "8dfe9c64-a530-4c6d-9fb9-9d692ec9ef58"
      },
      "outputs": [
        {
          "output_type": "stream",
          "name": "stdout",
          "text": [
            "Mounted at /content/drive\n"
          ]
        }
      ],
      "source": [
        "import pandas as pd\n",
        "import numpy as np\n",
        "from google.colab import drive\n",
        "drive.mount('/content/drive')"
      ]
    },
    {
      "cell_type": "code",
      "source": [
        "datase=pd.read_csv(\"/content/drive/MyDrive/proj_dataQuality/house.csv\")\n",
        "datase"
      ],
      "metadata": {
        "colab": {
          "base_uri": "https://localhost:8080/",
          "height": 488
        },
        "id": "O0wIlgmoDKU7",
        "outputId": "b6a9a03d-987f-4411-c51f-37a0443248ac"
      },
      "execution_count": null,
      "outputs": [
        {
          "output_type": "execute_result",
          "data": {
            "text/plain": [
              "     MSSubClass MSZoning  LotFrontage  LotArea Street LotShape LandContour  \\\n",
              "0            70       RL    60.000000     7200   Pave      Reg         Lvl   \n",
              "1            60       RL    69.331454    18450   Pave      IR1         Lvl   \n",
              "2            70       RM    68.000000     9928   Pave      Reg         Lvl   \n",
              "3            20       FV    60.000000     7200   Pave      Reg         Lvl   \n",
              "4           120       FV    35.000000     4274   Pave      IR1         Lvl   \n",
              "..          ...      ...          ...      ...    ...      ...         ...   \n",
              "496          20       RL    75.000000     9000   Pave      Reg         Lvl   \n",
              "497          60       RL    69.331454    16698   Pave      IR1         HLS   \n",
              "498          60       RL    62.000000     7415   Pave      IR1         Lvl   \n",
              "499          80       RL    69.331454    14115   Pave      Reg         Lvl   \n",
              "500          20       RL    69.331454    11120   Pave      IR1         Lvl   \n",
              "\n",
              "    Utilities LotConfig LandSlope  ... OpenPorchSF EnclosedPorch 3SsnPorch  \\\n",
              "0      AllPub    Corner       Gtl  ...           0           112         0   \n",
              "1      AllPub    Inside       Gtl  ...         265             0         0   \n",
              "2      AllPub    Inside       Gtl  ...          28             0         0   \n",
              "3      AllPub    Inside       Gtl  ...         121             0         0   \n",
              "4      AllPub    Inside       Gtl  ...         116             0         0   \n",
              "..        ...       ...       ...  ...         ...           ...       ...   \n",
              "496    AllPub    Inside       Gtl  ...           0             0         0   \n",
              "497    AllPub   CulDSac       Mod  ...         193             0         0   \n",
              "498    AllPub    Inside       Gtl  ...          75             0         0   \n",
              "499    AllPub    Inside       Gtl  ...          48             0         0   \n",
              "500    AllPub   CulDSac       Gtl  ...           0             0         0   \n",
              "\n",
              "    ScreenPorch PoolArea  MiscVal  MoSold  YrSold  SaleType SaleCondition  \n",
              "0             0        0        0       8    2009        WD        Normal  \n",
              "1             0        0        0       8    2007        WD       Abnorml  \n",
              "2             0        0      400       6    2009        WD        Normal  \n",
              "3             0        0        0       8    2006       New       Partial  \n",
              "4             0        0        0      11    2007       New       Partial  \n",
              "..          ...      ...      ...     ...     ...       ...           ...  \n",
              "496           0        0        0       8    2009        WD       Abnorml  \n",
              "497           0        0        0       6    2009        WD        Normal  \n",
              "498           0        0        0       4    2008        WD        Normal  \n",
              "499           0        0        0       6    2009        WD        Normal  \n",
              "500           0        0        0       6    2008        WD        Normal  \n",
              "\n",
              "[501 rows x 75 columns]"
            ],
            "text/html": [
              "\n",
              "  <div id=\"df-0ae2287a-8ee1-46eb-88b4-479ee7e156c6\">\n",
              "    <div class=\"colab-df-container\">\n",
              "      <div>\n",
              "<style scoped>\n",
              "    .dataframe tbody tr th:only-of-type {\n",
              "        vertical-align: middle;\n",
              "    }\n",
              "\n",
              "    .dataframe tbody tr th {\n",
              "        vertical-align: top;\n",
              "    }\n",
              "\n",
              "    .dataframe thead th {\n",
              "        text-align: right;\n",
              "    }\n",
              "</style>\n",
              "<table border=\"1\" class=\"dataframe\">\n",
              "  <thead>\n",
              "    <tr style=\"text-align: right;\">\n",
              "      <th></th>\n",
              "      <th>MSSubClass</th>\n",
              "      <th>MSZoning</th>\n",
              "      <th>LotFrontage</th>\n",
              "      <th>LotArea</th>\n",
              "      <th>Street</th>\n",
              "      <th>LotShape</th>\n",
              "      <th>LandContour</th>\n",
              "      <th>Utilities</th>\n",
              "      <th>LotConfig</th>\n",
              "      <th>LandSlope</th>\n",
              "      <th>...</th>\n",
              "      <th>OpenPorchSF</th>\n",
              "      <th>EnclosedPorch</th>\n",
              "      <th>3SsnPorch</th>\n",
              "      <th>ScreenPorch</th>\n",
              "      <th>PoolArea</th>\n",
              "      <th>MiscVal</th>\n",
              "      <th>MoSold</th>\n",
              "      <th>YrSold</th>\n",
              "      <th>SaleType</th>\n",
              "      <th>SaleCondition</th>\n",
              "    </tr>\n",
              "  </thead>\n",
              "  <tbody>\n",
              "    <tr>\n",
              "      <th>0</th>\n",
              "      <td>70</td>\n",
              "      <td>RL</td>\n",
              "      <td>60.000000</td>\n",
              "      <td>7200</td>\n",
              "      <td>Pave</td>\n",
              "      <td>Reg</td>\n",
              "      <td>Lvl</td>\n",
              "      <td>AllPub</td>\n",
              "      <td>Corner</td>\n",
              "      <td>Gtl</td>\n",
              "      <td>...</td>\n",
              "      <td>0</td>\n",
              "      <td>112</td>\n",
              "      <td>0</td>\n",
              "      <td>0</td>\n",
              "      <td>0</td>\n",
              "      <td>0</td>\n",
              "      <td>8</td>\n",
              "      <td>2009</td>\n",
              "      <td>WD</td>\n",
              "      <td>Normal</td>\n",
              "    </tr>\n",
              "    <tr>\n",
              "      <th>1</th>\n",
              "      <td>60</td>\n",
              "      <td>RL</td>\n",
              "      <td>69.331454</td>\n",
              "      <td>18450</td>\n",
              "      <td>Pave</td>\n",
              "      <td>IR1</td>\n",
              "      <td>Lvl</td>\n",
              "      <td>AllPub</td>\n",
              "      <td>Inside</td>\n",
              "      <td>Gtl</td>\n",
              "      <td>...</td>\n",
              "      <td>265</td>\n",
              "      <td>0</td>\n",
              "      <td>0</td>\n",
              "      <td>0</td>\n",
              "      <td>0</td>\n",
              "      <td>0</td>\n",
              "      <td>8</td>\n",
              "      <td>2007</td>\n",
              "      <td>WD</td>\n",
              "      <td>Abnorml</td>\n",
              "    </tr>\n",
              "    <tr>\n",
              "      <th>2</th>\n",
              "      <td>70</td>\n",
              "      <td>RM</td>\n",
              "      <td>68.000000</td>\n",
              "      <td>9928</td>\n",
              "      <td>Pave</td>\n",
              "      <td>Reg</td>\n",
              "      <td>Lvl</td>\n",
              "      <td>AllPub</td>\n",
              "      <td>Inside</td>\n",
              "      <td>Gtl</td>\n",
              "      <td>...</td>\n",
              "      <td>28</td>\n",
              "      <td>0</td>\n",
              "      <td>0</td>\n",
              "      <td>0</td>\n",
              "      <td>0</td>\n",
              "      <td>400</td>\n",
              "      <td>6</td>\n",
              "      <td>2009</td>\n",
              "      <td>WD</td>\n",
              "      <td>Normal</td>\n",
              "    </tr>\n",
              "    <tr>\n",
              "      <th>3</th>\n",
              "      <td>20</td>\n",
              "      <td>FV</td>\n",
              "      <td>60.000000</td>\n",
              "      <td>7200</td>\n",
              "      <td>Pave</td>\n",
              "      <td>Reg</td>\n",
              "      <td>Lvl</td>\n",
              "      <td>AllPub</td>\n",
              "      <td>Inside</td>\n",
              "      <td>Gtl</td>\n",
              "      <td>...</td>\n",
              "      <td>121</td>\n",
              "      <td>0</td>\n",
              "      <td>0</td>\n",
              "      <td>0</td>\n",
              "      <td>0</td>\n",
              "      <td>0</td>\n",
              "      <td>8</td>\n",
              "      <td>2006</td>\n",
              "      <td>New</td>\n",
              "      <td>Partial</td>\n",
              "    </tr>\n",
              "    <tr>\n",
              "      <th>4</th>\n",
              "      <td>120</td>\n",
              "      <td>FV</td>\n",
              "      <td>35.000000</td>\n",
              "      <td>4274</td>\n",
              "      <td>Pave</td>\n",
              "      <td>IR1</td>\n",
              "      <td>Lvl</td>\n",
              "      <td>AllPub</td>\n",
              "      <td>Inside</td>\n",
              "      <td>Gtl</td>\n",
              "      <td>...</td>\n",
              "      <td>116</td>\n",
              "      <td>0</td>\n",
              "      <td>0</td>\n",
              "      <td>0</td>\n",
              "      <td>0</td>\n",
              "      <td>0</td>\n",
              "      <td>11</td>\n",
              "      <td>2007</td>\n",
              "      <td>New</td>\n",
              "      <td>Partial</td>\n",
              "    </tr>\n",
              "    <tr>\n",
              "      <th>...</th>\n",
              "      <td>...</td>\n",
              "      <td>...</td>\n",
              "      <td>...</td>\n",
              "      <td>...</td>\n",
              "      <td>...</td>\n",
              "      <td>...</td>\n",
              "      <td>...</td>\n",
              "      <td>...</td>\n",
              "      <td>...</td>\n",
              "      <td>...</td>\n",
              "      <td>...</td>\n",
              "      <td>...</td>\n",
              "      <td>...</td>\n",
              "      <td>...</td>\n",
              "      <td>...</td>\n",
              "      <td>...</td>\n",
              "      <td>...</td>\n",
              "      <td>...</td>\n",
              "      <td>...</td>\n",
              "      <td>...</td>\n",
              "      <td>...</td>\n",
              "    </tr>\n",
              "    <tr>\n",
              "      <th>496</th>\n",
              "      <td>20</td>\n",
              "      <td>RL</td>\n",
              "      <td>75.000000</td>\n",
              "      <td>9000</td>\n",
              "      <td>Pave</td>\n",
              "      <td>Reg</td>\n",
              "      <td>Lvl</td>\n",
              "      <td>AllPub</td>\n",
              "      <td>Inside</td>\n",
              "      <td>Gtl</td>\n",
              "      <td>...</td>\n",
              "      <td>0</td>\n",
              "      <td>0</td>\n",
              "      <td>0</td>\n",
              "      <td>0</td>\n",
              "      <td>0</td>\n",
              "      <td>0</td>\n",
              "      <td>8</td>\n",
              "      <td>2009</td>\n",
              "      <td>WD</td>\n",
              "      <td>Abnorml</td>\n",
              "    </tr>\n",
              "    <tr>\n",
              "      <th>497</th>\n",
              "      <td>60</td>\n",
              "      <td>RL</td>\n",
              "      <td>69.331454</td>\n",
              "      <td>16698</td>\n",
              "      <td>Pave</td>\n",
              "      <td>IR1</td>\n",
              "      <td>HLS</td>\n",
              "      <td>AllPub</td>\n",
              "      <td>CulDSac</td>\n",
              "      <td>Mod</td>\n",
              "      <td>...</td>\n",
              "      <td>193</td>\n",
              "      <td>0</td>\n",
              "      <td>0</td>\n",
              "      <td>0</td>\n",
              "      <td>0</td>\n",
              "      <td>0</td>\n",
              "      <td>6</td>\n",
              "      <td>2009</td>\n",
              "      <td>WD</td>\n",
              "      <td>Normal</td>\n",
              "    </tr>\n",
              "    <tr>\n",
              "      <th>498</th>\n",
              "      <td>60</td>\n",
              "      <td>RL</td>\n",
              "      <td>62.000000</td>\n",
              "      <td>7415</td>\n",
              "      <td>Pave</td>\n",
              "      <td>IR1</td>\n",
              "      <td>Lvl</td>\n",
              "      <td>AllPub</td>\n",
              "      <td>Inside</td>\n",
              "      <td>Gtl</td>\n",
              "      <td>...</td>\n",
              "      <td>75</td>\n",
              "      <td>0</td>\n",
              "      <td>0</td>\n",
              "      <td>0</td>\n",
              "      <td>0</td>\n",
              "      <td>0</td>\n",
              "      <td>4</td>\n",
              "      <td>2008</td>\n",
              "      <td>WD</td>\n",
              "      <td>Normal</td>\n",
              "    </tr>\n",
              "    <tr>\n",
              "      <th>499</th>\n",
              "      <td>80</td>\n",
              "      <td>RL</td>\n",
              "      <td>69.331454</td>\n",
              "      <td>14115</td>\n",
              "      <td>Pave</td>\n",
              "      <td>Reg</td>\n",
              "      <td>Lvl</td>\n",
              "      <td>AllPub</td>\n",
              "      <td>Inside</td>\n",
              "      <td>Gtl</td>\n",
              "      <td>...</td>\n",
              "      <td>48</td>\n",
              "      <td>0</td>\n",
              "      <td>0</td>\n",
              "      <td>0</td>\n",
              "      <td>0</td>\n",
              "      <td>0</td>\n",
              "      <td>6</td>\n",
              "      <td>2009</td>\n",
              "      <td>WD</td>\n",
              "      <td>Normal</td>\n",
              "    </tr>\n",
              "    <tr>\n",
              "      <th>500</th>\n",
              "      <td>20</td>\n",
              "      <td>RL</td>\n",
              "      <td>69.331454</td>\n",
              "      <td>11120</td>\n",
              "      <td>Pave</td>\n",
              "      <td>IR1</td>\n",
              "      <td>Lvl</td>\n",
              "      <td>AllPub</td>\n",
              "      <td>CulDSac</td>\n",
              "      <td>Gtl</td>\n",
              "      <td>...</td>\n",
              "      <td>0</td>\n",
              "      <td>0</td>\n",
              "      <td>0</td>\n",
              "      <td>0</td>\n",
              "      <td>0</td>\n",
              "      <td>0</td>\n",
              "      <td>6</td>\n",
              "      <td>2008</td>\n",
              "      <td>WD</td>\n",
              "      <td>Normal</td>\n",
              "    </tr>\n",
              "  </tbody>\n",
              "</table>\n",
              "<p>501 rows × 75 columns</p>\n",
              "</div>\n",
              "      <button class=\"colab-df-convert\" onclick=\"convertToInteractive('df-0ae2287a-8ee1-46eb-88b4-479ee7e156c6')\"\n",
              "              title=\"Convert this dataframe to an interactive table.\"\n",
              "              style=\"display:none;\">\n",
              "        \n",
              "  <svg xmlns=\"http://www.w3.org/2000/svg\" height=\"24px\"viewBox=\"0 0 24 24\"\n",
              "       width=\"24px\">\n",
              "    <path d=\"M0 0h24v24H0V0z\" fill=\"none\"/>\n",
              "    <path d=\"M18.56 5.44l.94 2.06.94-2.06 2.06-.94-2.06-.94-.94-2.06-.94 2.06-2.06.94zm-11 1L8.5 8.5l.94-2.06 2.06-.94-2.06-.94L8.5 2.5l-.94 2.06-2.06.94zm10 10l.94 2.06.94-2.06 2.06-.94-2.06-.94-.94-2.06-.94 2.06-2.06.94z\"/><path d=\"M17.41 7.96l-1.37-1.37c-.4-.4-.92-.59-1.43-.59-.52 0-1.04.2-1.43.59L10.3 9.45l-7.72 7.72c-.78.78-.78 2.05 0 2.83L4 21.41c.39.39.9.59 1.41.59.51 0 1.02-.2 1.41-.59l7.78-7.78 2.81-2.81c.8-.78.8-2.07 0-2.86zM5.41 20L4 18.59l7.72-7.72 1.47 1.35L5.41 20z\"/>\n",
              "  </svg>\n",
              "      </button>\n",
              "      \n",
              "  <style>\n",
              "    .colab-df-container {\n",
              "      display:flex;\n",
              "      flex-wrap:wrap;\n",
              "      gap: 12px;\n",
              "    }\n",
              "\n",
              "    .colab-df-convert {\n",
              "      background-color: #E8F0FE;\n",
              "      border: none;\n",
              "      border-radius: 50%;\n",
              "      cursor: pointer;\n",
              "      display: none;\n",
              "      fill: #1967D2;\n",
              "      height: 32px;\n",
              "      padding: 0 0 0 0;\n",
              "      width: 32px;\n",
              "    }\n",
              "\n",
              "    .colab-df-convert:hover {\n",
              "      background-color: #E2EBFA;\n",
              "      box-shadow: 0px 1px 2px rgba(60, 64, 67, 0.3), 0px 1px 3px 1px rgba(60, 64, 67, 0.15);\n",
              "      fill: #174EA6;\n",
              "    }\n",
              "\n",
              "    [theme=dark] .colab-df-convert {\n",
              "      background-color: #3B4455;\n",
              "      fill: #D2E3FC;\n",
              "    }\n",
              "\n",
              "    [theme=dark] .colab-df-convert:hover {\n",
              "      background-color: #434B5C;\n",
              "      box-shadow: 0px 1px 3px 1px rgba(0, 0, 0, 0.15);\n",
              "      filter: drop-shadow(0px 1px 2px rgba(0, 0, 0, 0.3));\n",
              "      fill: #FFFFFF;\n",
              "    }\n",
              "  </style>\n",
              "\n",
              "      <script>\n",
              "        const buttonEl =\n",
              "          document.querySelector('#df-0ae2287a-8ee1-46eb-88b4-479ee7e156c6 button.colab-df-convert');\n",
              "        buttonEl.style.display =\n",
              "          google.colab.kernel.accessAllowed ? 'block' : 'none';\n",
              "\n",
              "        async function convertToInteractive(key) {\n",
              "          const element = document.querySelector('#df-0ae2287a-8ee1-46eb-88b4-479ee7e156c6');\n",
              "          const dataTable =\n",
              "            await google.colab.kernel.invokeFunction('convertToInteractive',\n",
              "                                                     [key], {});\n",
              "          if (!dataTable) return;\n",
              "\n",
              "          const docLinkHtml = 'Like what you see? Visit the ' +\n",
              "            '<a target=\"_blank\" href=https://colab.research.google.com/notebooks/data_table.ipynb>data table notebook</a>'\n",
              "            + ' to learn more about interactive tables.';\n",
              "          element.innerHTML = '';\n",
              "          dataTable['output_type'] = 'display_data';\n",
              "          await google.colab.output.renderOutput(dataTable, element);\n",
              "          const docLink = document.createElement('div');\n",
              "          docLink.innerHTML = docLinkHtml;\n",
              "          element.appendChild(docLink);\n",
              "        }\n",
              "      </script>\n",
              "    </div>\n",
              "  </div>\n",
              "  "
            ]
          },
          "metadata": {},
          "execution_count": 116
        }
      ]
    },
    {
      "cell_type": "code",
      "source": [
        "import sys\n",
        "sys.path.append(\"/content/drive/MyDrive/proj_dataQuality\")"
      ],
      "metadata": {
        "id": "gE8SI9txH4jI"
      },
      "execution_count": null,
      "outputs": []
    },
    {
      "cell_type": "code",
      "source": [
        "import dirty_accuracy as da"
      ],
      "metadata": {
        "id": "zHsyOv99JIO6"
      },
      "execution_count": null,
      "outputs": []
    },
    {
      "cell_type": "code",
      "source": [
        "cancer_injected=da.injection(datase,42,\"cancer\",\"Class\")\n",
        "cancer_injected"
      ],
      "metadata": {
        "colab": {
          "base_uri": "https://localhost:8080/"
        },
        "id": "CvaM6Pr0J2Hs",
        "outputId": "43093fc0-f4bc-4fa3-d7ac-554012a0e940"
      },
      "execution_count": null,
      "outputs": [
        {
          "output_type": "stream",
          "name": "stdout",
          "text": [
            "saved cancer-accuracy50%\n",
            "saved cancer-accuracy60%\n",
            "saved cancer-accuracy70%\n",
            "saved cancer-accuracy80%\n",
            "saved cancer-accuracy90%\n"
          ]
        },
        {
          "output_type": "execute_result",
          "data": {
            "text/plain": [
              "[      MSSubClass MSZoning  LotFrontage        LotArea Street LotShape  \\\n",
              " 0    1302.412265       RL    60.000000    7200.000000   Pave      Reg   \n",
              " 1      60.000000       RL   551.685850   18450.000000   Pave      IR1   \n",
              " 2      70.000000       RM    68.000000    9928.000000   Pave      Reg   \n",
              " 3      20.000000       FV    60.000000    7200.000000   Pave      Reg   \n",
              " 4    -610.401121       FV -1215.463457    4274.000000   Pave      IR1   \n",
              " ..           ...      ...          ...            ...    ...      ...   \n",
              " 496    20.000000       RL  1181.201753  186415.559544   Pave      Reg   \n",
              " 497  1370.209503       RL    69.331454   16698.000000   Pave      IR1   \n",
              " 498    60.000000       RL  -801.301243    7415.000000   Pave      IR1   \n",
              " 499    80.000000       RL  -793.056189 -456244.323047   Pave      Reg   \n",
              " 500    20.000000       RL    69.331454 -177354.079997   Pave      IR1   \n",
              " \n",
              "     LandContour Utilities LotConfig LandSlope  ...  OpenPorchSF EnclosedPorch  \\\n",
              " 0           Lvl    AllPub    Corner       Gtl  ... -1282.504699   -393.629933   \n",
              " 1           Lvl    AllPub    Inside       Gtl  ...  3015.853414      0.000000   \n",
              " 2           Lvl    AllPub    Inside       Gtl  ...  -487.105240      0.000000   \n",
              " 3           Lvl    AllPub    Inside       Gtl  ...   121.000000   1084.081763   \n",
              " 4           Lvl    AllPub    Inside       Gtl  ...   116.000000   -533.861069   \n",
              " ..          ...       ...       ...       ...  ...          ...           ...   \n",
              " 496         Lvl    AllPub    Inside       Gtl  ...  -514.236344      0.000000   \n",
              " 497         HLS    AllPub   CulDSac       Mod  ... -1563.124371    821.003050   \n",
              " 498         Lvl    AllPub    Inside       Gtl  ...  3040.404629      0.000000   \n",
              " 499         Lvl    AllPub    Inside       Gtl  ... -3297.555278   2323.107269   \n",
              " 500         Lvl    AllPub   CulDSac       Gtl  ...     0.000000   -721.735345   \n",
              " \n",
              "       3SsnPorch  ScreenPorch     PoolArea        MiscVal      MoSold  \\\n",
              " 0      0.000000     0.000000     0.000000  -70571.934802  -82.839267   \n",
              " 1      0.000000     0.000000 -1752.630407   87212.610605    8.000000   \n",
              " 2   -869.377530 -3266.605739     0.000000     400.000000  -60.941786   \n",
              " 3      0.000000   -83.883028     0.000000       0.000000   45.032908   \n",
              " 4      0.000000     0.000000 -2303.267509 -105341.694680   11.000000   \n",
              " ..          ...          ...          ...            ...         ...   \n",
              " 496    0.000000     0.000000 -5189.295415   34844.109733    8.000000   \n",
              " 497    0.000000  3179.446531     0.000000       0.000000  110.695385   \n",
              " 498    0.000000     0.000000     0.000000   -7598.995547   73.519958   \n",
              " 499    0.000000  2744.618743     0.000000   35117.604020    6.000000   \n",
              " 500  624.513611  1680.622168 -3039.201748       0.000000    6.000000   \n",
              " \n",
              "           YrSold  SaleType SaleCondition  \n",
              " 0    2009.000000        WD        Normal  \n",
              " 1    2038.602995        WD       Abnorml  \n",
              " 2    2009.000000        WD        Normal  \n",
              " 3    2006.000000       New       Partial  \n",
              " 4    2001.347860       New       Partial  \n",
              " ..           ...       ...           ...  \n",
              " 496  2009.000000        WD       Abnorml  \n",
              " 497  2009.000000        WD        Normal  \n",
              " 498  2012.176687        WD        Normal  \n",
              " 499  2009.000000        WD        Normal  \n",
              " 500  2008.000000        WD        Normal  \n",
              " \n",
              " [501 rows x 75 columns],\n",
              "       MSSubClass MSZoning  LotFrontage        LotArea Street LotShape  \\\n",
              " 0      70.000000       RL    60.000000    7200.000000   Pave      Reg   \n",
              " 1      60.000000       RL  -790.027079 -241583.044127   Pave      IR1   \n",
              " 2      70.000000       RM    68.000000    9928.000000   Pave      Reg   \n",
              " 3      20.000000       FV    60.000000 -376375.725233   Pave      Reg   \n",
              " 4     120.000000       FV    35.000000  -98605.265902   Pave      IR1   \n",
              " ..           ...      ...          ...            ...    ...      ...   \n",
              " 496    20.000000       RL -1026.108445  -37174.139931   Pave      Reg   \n",
              " 497  1437.095926       RL  -992.876645   16698.000000   Pave      IR1   \n",
              " 498    60.000000       RL    62.000000    7415.000000   Pave      IR1   \n",
              " 499    80.000000       RL    69.331454   14115.000000   Pave      Reg   \n",
              " 500   804.067855       RL    69.331454  187545.566368   Pave      IR1   \n",
              " \n",
              "     LandContour Utilities LotConfig LandSlope  ...  OpenPorchSF EnclosedPorch  \\\n",
              " 0           Lvl    AllPub    Corner       Gtl  ... -2642.710780  -1360.788120   \n",
              " 1           Lvl    AllPub    Inside       Gtl  ...   265.000000   2602.852937   \n",
              " 2           Lvl    AllPub    Inside       Gtl  ...    28.000000    991.495265   \n",
              " 3           Lvl    AllPub    Inside       Gtl  ...   823.062628   1182.454211   \n",
              " 4           Lvl    AllPub    Inside       Gtl  ... -3164.857494      0.000000   \n",
              " ..          ...       ...       ...       ...  ...          ...           ...   \n",
              " 496         Lvl    AllPub    Inside       Gtl  ...   881.096643      0.000000   \n",
              " 497         HLS    AllPub   CulDSac       Mod  ...   193.000000      0.000000   \n",
              " 498         Lvl    AllPub    Inside       Gtl  ...    75.000000      0.000000   \n",
              " 499         Lvl    AllPub    Inside       Gtl  ...    48.000000      0.000000   \n",
              " 500         Lvl    AllPub   CulDSac       Gtl  ...     0.000000   1083.777784   \n",
              " \n",
              "        3SsnPorch  ScreenPorch     PoolArea        MiscVal      MoSold  \\\n",
              " 0       0.000000   863.499742 -4860.620420       0.000000    8.000000   \n",
              " 1       0.000000     0.000000     0.000000       0.000000    8.000000   \n",
              " 2   -2691.483470     0.000000     0.000000   16605.504664    6.000000   \n",
              " 3       0.000000     0.000000     0.000000       0.000000    8.000000   \n",
              " 4   -2416.087814  2458.951448  -368.832867       0.000000   11.000000   \n",
              " ..           ...          ...          ...            ...         ...   \n",
              " 496     0.000000  -720.056121     0.000000       0.000000  105.853201   \n",
              " 497     0.000000     0.000000 -4846.838681       0.000000    6.000000   \n",
              " 498     0.000000     0.000000  7119.748742 -132850.812228    4.000000   \n",
              " 499     0.000000     0.000000     0.000000       0.000000    6.000000   \n",
              " 500     0.000000     0.000000     0.000000       0.000000    6.000000   \n",
              " \n",
              "           YrSold  SaleType SaleCondition  \n",
              " 0    1967.560221        WD        Normal  \n",
              " 1    2013.809209        WD       Abnorml  \n",
              " 2    2009.000000        WD        Normal  \n",
              " 3    2001.254752       New       Partial  \n",
              " 4    2007.000000       New       Partial  \n",
              " ..           ...       ...           ...  \n",
              " 496  1970.008605        WD       Abnorml  \n",
              " 497  2009.000000        WD        Normal  \n",
              " 498  2000.052878        WD        Normal  \n",
              " 499  2009.000000        WD        Normal  \n",
              " 500  2037.087715        WD        Normal  \n",
              " \n",
              " [501 rows x 75 columns],\n",
              "       MSSubClass MSZoning  LotFrontage        LotArea Street LotShape  \\\n",
              " 0      70.000000       RL    60.000000    7200.000000   Pave      Reg   \n",
              " 1      60.000000       RL -1038.965579   18450.000000   Pave      IR1   \n",
              " 2      70.000000       RM    68.000000 -210875.206434   Pave      Reg   \n",
              " 3      20.000000       FV    60.000000    7200.000000   Pave      Reg   \n",
              " 4   -1672.893412       FV    35.000000    4274.000000   Pave      IR1   \n",
              " ..           ...      ...          ...            ...    ...      ...   \n",
              " 496    20.000000       RL   685.102914    9000.000000   Pave      Reg   \n",
              " 497    60.000000       RL  -530.402242   16698.000000   Pave      IR1   \n",
              " 498    60.000000       RL    62.000000    7415.000000   Pave      IR1   \n",
              " 499  1321.069705       RL    69.331454  496487.583206   Pave      Reg   \n",
              " 500    20.000000       RL    69.331454   11120.000000   Pave      IR1   \n",
              " \n",
              "     LandContour Utilities LotConfig LandSlope  ...  OpenPorchSF EnclosedPorch  \\\n",
              " 0           Lvl    AllPub    Corner       Gtl  ...     0.000000    112.000000   \n",
              " 1           Lvl    AllPub    Inside       Gtl  ... -2786.758491      0.000000   \n",
              " 2           Lvl    AllPub    Inside       Gtl  ...    28.000000   2055.271631   \n",
              " 3           Lvl    AllPub    Inside       Gtl  ...  1494.062488      0.000000   \n",
              " 4           Lvl    AllPub    Inside       Gtl  ...   116.000000  -2511.787105   \n",
              " ..          ...       ...       ...       ...  ...          ...           ...   \n",
              " 496         Lvl    AllPub    Inside       Gtl  ...     0.000000   -885.456879   \n",
              " 497         HLS    AllPub   CulDSac       Mod  ...   193.000000      0.000000   \n",
              " 498         Lvl    AllPub    Inside       Gtl  ...    75.000000      0.000000   \n",
              " 499         Lvl    AllPub    Inside       Gtl  ...    48.000000      0.000000   \n",
              " 500         Lvl    AllPub   CulDSac       Gtl  ...     0.000000      0.000000   \n",
              " \n",
              "        3SsnPorch  ScreenPorch     PoolArea        MiscVal     MoSold  \\\n",
              " 0       0.000000     0.000000 -1042.151476  -73984.674996   8.000000   \n",
              " 1    3302.854076     0.000000     0.000000  161306.647071   8.000000   \n",
              " 2     791.540691  3530.255413     0.000000     400.000000   6.000000   \n",
              " 3       0.000000     0.000000     0.000000   62920.499060   8.000000   \n",
              " 4   -1909.326833  1779.762114 -5366.177706  168520.756413  75.890963   \n",
              " ..           ...          ...          ...            ...        ...   \n",
              " 496     0.000000     0.000000     0.000000       0.000000 -50.199358   \n",
              " 497     0.000000  -216.843522  1109.811711       0.000000   6.000000   \n",
              " 498 -1447.650490     0.000000     0.000000       0.000000   4.000000   \n",
              " 499     0.000000     0.000000     0.000000       0.000000   6.000000   \n",
              " 500     0.000000     0.000000  4220.981975       0.000000   6.000000   \n",
              " \n",
              "           YrSold  SaleType SaleCondition  \n",
              " 0    2009.000000        WD        Normal  \n",
              " 1    2007.000000        WD       Abnorml  \n",
              " 2    2019.247739        WD        Normal  \n",
              " 3    2006.000000       New       Partial  \n",
              " 4    2025.607996       New       Partial  \n",
              " ..           ...       ...           ...  \n",
              " 496  2009.000000        WD       Abnorml  \n",
              " 497  2009.000000        WD        Normal  \n",
              " 498  2008.000000        WD        Normal  \n",
              " 499  2027.330257        WD        Normal  \n",
              " 500  2008.000000        WD        Normal  \n",
              " \n",
              " [501 rows x 75 columns],\n",
              "      MSSubClass MSZoning  LotFrontage  LotArea Street LotShape LandContour  \\\n",
              " 0          70.0       RL    60.000000   7200.0   Pave      Reg         Lvl   \n",
              " 1          60.0       RL    69.331454  18450.0   Pave      IR1         Lvl   \n",
              " 2          70.0       RM    68.000000   9928.0   Pave      Reg         Lvl   \n",
              " 3          20.0       FV  1432.191813   7200.0   Pave      Reg         Lvl   \n",
              " 4         120.0       FV    35.000000   4274.0   Pave      IR1         Lvl   \n",
              " ..          ...      ...          ...      ...    ...      ...         ...   \n",
              " 496        20.0       RL    75.000000   9000.0   Pave      Reg         Lvl   \n",
              " 497        60.0       RL    69.331454  16698.0   Pave      IR1         HLS   \n",
              " 498        60.0       RL    62.000000   7415.0   Pave      IR1         Lvl   \n",
              " 499        80.0       RL    69.331454  14115.0   Pave      Reg         Lvl   \n",
              " 500        20.0       RL    69.331454  11120.0   Pave      IR1         Lvl   \n",
              " \n",
              "     Utilities LotConfig LandSlope  ...  OpenPorchSF EnclosedPorch  \\\n",
              " 0      AllPub    Corner       Gtl  ...     0.000000    112.000000   \n",
              " 1      AllPub    Inside       Gtl  ...   265.000000      0.000000   \n",
              " 2      AllPub    Inside       Gtl  ...    28.000000   2635.390918   \n",
              " 3      AllPub    Inside       Gtl  ...  2362.880329      0.000000   \n",
              " 4      AllPub    Inside       Gtl  ...   116.000000      0.000000   \n",
              " ..        ...       ...       ...  ...          ...           ...   \n",
              " 496    AllPub    Inside       Gtl  ...     0.000000      0.000000   \n",
              " 497    AllPub   CulDSac       Mod  ...  -481.939601  -2854.959744   \n",
              " 498    AllPub    Inside       Gtl  ...    75.000000      0.000000   \n",
              " 499    AllPub    Inside       Gtl  ...    48.000000   1732.822833   \n",
              " 500    AllPub   CulDSac       Gtl  ...     0.000000      0.000000   \n",
              " \n",
              "        3SsnPorch  ScreenPorch     PoolArea       MiscVal      MoSold  \\\n",
              " 0       0.000000  -850.624682     0.000000      0.000000  101.927999   \n",
              " 1       0.000000     0.000000     0.000000      0.000000  -78.198053   \n",
              " 2       0.000000     0.000000     0.000000    400.000000   20.470481   \n",
              " 3       0.000000     0.000000     0.000000      0.000000    8.000000   \n",
              " 4       0.000000     0.000000 -4408.639036      0.000000   11.000000   \n",
              " ..           ...          ...          ...           ...         ...   \n",
              " 496     0.000000 -2112.703544     0.000000      0.000000    8.000000   \n",
              " 497  4002.261608     0.000000     0.000000 -91405.150145    6.000000   \n",
              " 498     0.000000 -2244.501396     0.000000      0.000000    4.000000   \n",
              " 499     0.000000     0.000000     0.000000      0.000000   92.055933   \n",
              " 500     0.000000     0.000000     0.000000      0.000000    6.000000   \n",
              " \n",
              "           YrSold  SaleType SaleCondition  \n",
              " 0    2027.950398        WD        Normal  \n",
              " 1    1966.155393        WD       Abnorml  \n",
              " 2    1981.682854        WD        Normal  \n",
              " 3    2006.000000       New       Partial  \n",
              " 4    2007.000000       New       Partial  \n",
              " ..           ...       ...           ...  \n",
              " 496  2009.000000        WD       Abnorml  \n",
              " 497  1987.364949        WD        Normal  \n",
              " 498  2008.000000        WD        Normal  \n",
              " 499  2003.250732        WD        Normal  \n",
              " 500  2008.000000        WD        Normal  \n",
              " \n",
              " [501 rows x 75 columns],\n",
              "      MSSubClass MSZoning  LotFrontage       LotArea Street LotShape  \\\n",
              " 0          70.0       RL    60.000000    7200.00000   Pave      Reg   \n",
              " 1          60.0       RL    69.331454   18450.00000   Pave      IR1   \n",
              " 2          70.0       RM    68.000000    9928.00000   Pave      Reg   \n",
              " 3          20.0       FV    60.000000    7200.00000   Pave      Reg   \n",
              " 4         120.0       FV  -178.146922    4274.00000   Pave      IR1   \n",
              " ..          ...      ...          ...           ...    ...      ...   \n",
              " 496        20.0       RL    75.000000    9000.00000   Pave      Reg   \n",
              " 497        60.0       RL    69.331454   16698.00000   Pave      IR1   \n",
              " 498        60.0       RL    62.000000    7415.00000   Pave      IR1   \n",
              " 499        80.0       RL    69.331454   14115.00000   Pave      Reg   \n",
              " 500        20.0       RL    69.331454  558411.68898   Pave      IR1   \n",
              " \n",
              "     LandContour Utilities LotConfig LandSlope  ...  OpenPorchSF EnclosedPorch  \\\n",
              " 0           Lvl    AllPub    Corner       Gtl  ...     0.000000    112.000000   \n",
              " 1           Lvl    AllPub    Inside       Gtl  ...   265.000000      0.000000   \n",
              " 2           Lvl    AllPub    Inside       Gtl  ... -2800.515104      0.000000   \n",
              " 3           Lvl    AllPub    Inside       Gtl  ...   121.000000  -1293.583647   \n",
              " 4           Lvl    AllPub    Inside       Gtl  ...   116.000000      0.000000   \n",
              " ..          ...       ...       ...       ...  ...          ...           ...   \n",
              " 496         Lvl    AllPub    Inside       Gtl  ...     0.000000      0.000000   \n",
              " 497         HLS    AllPub   CulDSac       Mod  ... -2400.194754  -2616.847216   \n",
              " 498         Lvl    AllPub    Inside       Gtl  ...    75.000000      0.000000   \n",
              " 499         Lvl    AllPub    Inside       Gtl  ...    48.000000   2729.284389   \n",
              " 500         Lvl    AllPub   CulDSac       Gtl  ...     0.000000      0.000000   \n",
              " \n",
              "        3SsnPorch ScreenPorch     PoolArea  MiscVal     MoSold       YrSold  \\\n",
              " 0       0.000000    0.000000  1381.629026      0.0   8.000000  2009.000000   \n",
              " 1   -4052.746498    0.000000     0.000000      0.0   8.000000  2007.000000   \n",
              " 2    -598.030088    0.000000     0.000000    400.0   6.000000  2009.000000   \n",
              " 3       0.000000  651.591092     0.000000      0.0   8.000000  2006.000000   \n",
              " 4       0.000000    0.000000  1656.726186      0.0  11.000000  1974.501432   \n",
              " ..           ...         ...          ...      ...        ...          ...   \n",
              " 496     0.000000    0.000000     0.000000      0.0   8.000000  2009.000000   \n",
              " 497     0.000000    0.000000     0.000000      0.0   6.000000  2009.000000   \n",
              " 498     0.000000    0.000000     0.000000      0.0  64.787422  2021.680148   \n",
              " 499     0.000000    0.000000     0.000000      0.0   6.000000  2009.000000   \n",
              " 500     0.000000    0.000000     0.000000      0.0   6.000000  2008.000000   \n",
              " \n",
              "      SaleType SaleCondition  \n",
              " 0          WD        Normal  \n",
              " 1          WD       Abnorml  \n",
              " 2          WD        Normal  \n",
              " 3         New       Partial  \n",
              " 4         New       Partial  \n",
              " ..        ...           ...  \n",
              " 496        WD       Abnorml  \n",
              " 497        WD        Normal  \n",
              " 498        WD        Normal  \n",
              " 499        WD        Normal  \n",
              " 500        WD        Normal  \n",
              " \n",
              " [501 rows x 75 columns]]"
            ]
          },
          "metadata": {},
          "execution_count": 119
        }
      ]
    },
    {
      "cell_type": "code",
      "source": [
        "dataset = np.array(cancer_injected)\n",
        "dataset.shape\n"
      ],
      "metadata": {
        "colab": {
          "base_uri": "https://localhost:8080/"
        },
        "id": "xfcc7tilf-IB",
        "outputId": "0209d5d2-c190-4591-e433-d3bedd6289ab"
      },
      "execution_count": null,
      "outputs": [
        {
          "output_type": "execute_result",
          "data": {
            "text/plain": [
              "(5, 683, 10)"
            ]
          },
          "metadata": {},
          "execution_count": 20
        }
      ]
    },
    {
      "cell_type": "code",
      "source": [
        "y_class=dataset[:,:,9]\n",
        "x_class=dataset[:,:,:9]\n",
        "x_class.shape,y_class.shape"
      ],
      "metadata": {
        "id": "MEy4iYerjNFU",
        "colab": {
          "base_uri": "https://localhost:8080/"
        },
        "outputId": "71b6275f-9b9d-4f40-8ad3-c96a4b3d628b"
      },
      "execution_count": null,
      "outputs": [
        {
          "output_type": "execute_result",
          "data": {
            "text/plain": [
              "((5, 683, 9), (5, 683))"
            ]
          },
          "metadata": {},
          "execution_count": 36
        }
      ]
    },
    {
      "cell_type": "code",
      "source": [
        "from sklearn.preprocessing import RobustScaler\n",
        "scaled=[None]*len(dataset)\n",
        "robust_scaler = RobustScaler()\n",
        "for i in range(len(dataset)):\n",
        "  robust_scaler.fit(dataset[i])\n",
        "  scaled[i] = robust_scaler.transform(dataset[i])\n",
        "\n",
        "scaled = np.asarray(scaled)\n",
        "scaled.shape"
      ],
      "metadata": {
        "id": "hZjct04gYxke",
        "colab": {
          "base_uri": "https://localhost:8080/"
        },
        "outputId": "9cdc4ef3-80a4-4edb-cebb-da9b44cdeed1"
      },
      "execution_count": null,
      "outputs": [
        {
          "output_type": "execute_result",
          "data": {
            "text/plain": [
              "(5, 683, 10)"
            ]
          },
          "metadata": {},
          "execution_count": 23
        }
      ]
    },
    {
      "cell_type": "code",
      "source": [
        "from sklearn.decomposition import PCA\n",
        "principalDf=[None]*len(scaled)\n",
        "for i in range(5):\n",
        "  pca = PCA(n_components=7)\n",
        "  principalComponents = pca.fit_transform(scaled[i])\n",
        "  principalDf[i] = pd.DataFrame(data = principalComponents\n",
        "             , columns = ['principal component 1', 'principal component 2','principal component 3','principal component 4','principal component 5','principal component 6','principal component 7'])\n"
      ],
      "metadata": {
        "id": "YlzZQmMwdSM-"
      },
      "execution_count": null,
      "outputs": []
    },
    {
      "cell_type": "code",
      "source": [
        "for i in range(5):\n",
        "  print(i,\"\\t\",len(y_class[y_class ==i]))"
      ],
      "metadata": {
        "colab": {
          "base_uri": "https://localhost:8080/"
        },
        "id": "kplwwZRBiNEp",
        "outputId": "dc19c4eb-26fd-4c73-e41e-4b7b6ea4a925"
      },
      "execution_count": null,
      "outputs": [
        {
          "output_type": "stream",
          "name": "stdout",
          "text": [
            "0 \t 0\n",
            "1 \t 0\n",
            "2 \t 2220\n",
            "3 \t 0\n",
            "4 \t 1195\n"
          ]
        }
      ]
    },
    {
      "cell_type": "code",
      "source": [
        "x_class.shape, y_class.shape   #te tocca fa il reshape bro\n"
      ],
      "metadata": {
        "colab": {
          "base_uri": "https://localhost:8080/"
        },
        "id": "7Mg4CQqwjpkx",
        "outputId": "00bfb8cd-a59d-4fb6-b259-1372ee904cbc"
      },
      "execution_count": null,
      "outputs": [
        {
          "output_type": "execute_result",
          "data": {
            "text/plain": [
              "((5, 683, 9), (5, 683))"
            ]
          },
          "metadata": {},
          "execution_count": 37
        }
      ]
    },
    {
      "cell_type": "markdown",
      "source": [
        "# Primo block"
      ],
      "metadata": {
        "id": "O4Gx9ufkfkcc"
      }
    },
    {
      "cell_type": "markdown",
      "source": [
        "# random forest"
      ],
      "metadata": {
        "id": "sLQRkt6jft53"
      }
    },
    {
      "cell_type": "code",
      "source": [
        "from sklearn.model_selection import train_test_split\n",
        "X_train=[None]*len(x_class)\n",
        "X_test=[None]*len(x_class)\n",
        "y_train=[None]*len(x_class)\n",
        "y_test=[None]*len(x_class)\n",
        "for i in range(len(x_class)):\n",
        "  X_train[i], X_test[i], y_train[i], y_test[i] = train_test_split(x_class[i], y_class[i], test_size = 0.25, random_state = 0)"
      ],
      "metadata": {
        "id": "URQ4h9Q7fxfe"
      },
      "execution_count": null,
      "outputs": []
    },
    {
      "cell_type": "code",
      "source": [
        "from sklearn.preprocessing import StandardScaler\n",
        "sc = StandardScaler()\n",
        "for i in range(len(X_train)):\n",
        "  X_train[i] = sc.fit_transform(X_train[i])\n",
        "  X_test[i] = sc.transform(X_test[i])\n"
      ],
      "metadata": {
        "id": "Wr0-ufVWfyxP"
      },
      "execution_count": null,
      "outputs": []
    },
    {
      "cell_type": "code",
      "source": [
        "from sklearn.ensemble import RandomForestClassifier\n",
        "classifiers=[None]*len(x_class)\n",
        "for i in range(len(x_class)):\n",
        "  classifiers[i]=RandomForestClassifier(n_estimators = 10, criterion = 'entropy', random_state = 0)\n",
        "  classifiers[i].fit(X_train[i], y_train[i])"
      ],
      "metadata": {
        "id": "kF5Nu08UmML1"
      },
      "execution_count": null,
      "outputs": []
    },
    {
      "cell_type": "code",
      "source": [
        "y_pred=[None]*len(X_train)\n",
        "for i in range(len(X_train)):\n",
        " y_pred[i] = classifiers[i].predict(X_test[i])"
      ],
      "metadata": {
        "id": "cHgJlaqyhm-s"
      },
      "execution_count": null,
      "outputs": []
    },
    {
      "cell_type": "code",
      "source": [
        "  from sklearn.metrics import confusion_matrix\n",
        "  for i in range(5):\n",
        "    cm=confusion_matrix(y_test[i], y_pred[i])\n",
        "    print(cm)"
      ],
      "metadata": {
        "colab": {
          "base_uri": "https://localhost:8080/"
        },
        "id": "HaY5m0jTiQoL",
        "outputId": "5795ce0c-2969-4a7e-e5da-dba33d8f9346"
      },
      "execution_count": null,
      "outputs": [
        {
          "output_type": "stream",
          "name": "stdout",
          "text": [
            "[[102   5]\n",
            " [ 21  43]]\n",
            "[[101   6]\n",
            " [ 20  44]]\n",
            "[[103   4]\n",
            " [ 14  50]]\n",
            "[[103   4]\n",
            " [ 14  50]]\n",
            "[[105   2]\n",
            " [ 11  53]]\n"
          ]
        }
      ]
    },
    {
      "cell_type": "code",
      "source": [
        "from sklearn.metrics import classification_report\n",
        "for i in range(5):\n",
        "  print(\"For classification report:\")\n",
        "  print(classification_report(y_test[i] , y_pred[i]))"
      ],
      "metadata": {
        "colab": {
          "base_uri": "https://localhost:8080/"
        },
        "id": "uIRsBrnCjCdR",
        "outputId": "9b458886-538a-44b4-d355-3f7d2e9bdbb3"
      },
      "execution_count": null,
      "outputs": [
        {
          "output_type": "stream",
          "name": "stdout",
          "text": [
            "For classification report:\n",
            "              precision    recall  f1-score   support\n",
            "\n",
            "         2.0       0.83      0.95      0.89       107\n",
            "         4.0       0.90      0.67      0.77        64\n",
            "\n",
            "    accuracy                           0.85       171\n",
            "   macro avg       0.86      0.81      0.83       171\n",
            "weighted avg       0.85      0.85      0.84       171\n",
            "\n",
            "For classification report:\n",
            "              precision    recall  f1-score   support\n",
            "\n",
            "         2.0       0.83      0.94      0.89       107\n",
            "         4.0       0.88      0.69      0.77        64\n",
            "\n",
            "    accuracy                           0.85       171\n",
            "   macro avg       0.86      0.82      0.83       171\n",
            "weighted avg       0.85      0.85      0.84       171\n",
            "\n",
            "For classification report:\n",
            "              precision    recall  f1-score   support\n",
            "\n",
            "         2.0       0.88      0.96      0.92       107\n",
            "         4.0       0.93      0.78      0.85        64\n",
            "\n",
            "    accuracy                           0.89       171\n",
            "   macro avg       0.90      0.87      0.88       171\n",
            "weighted avg       0.90      0.89      0.89       171\n",
            "\n",
            "For classification report:\n",
            "              precision    recall  f1-score   support\n",
            "\n",
            "         2.0       0.88      0.96      0.92       107\n",
            "         4.0       0.93      0.78      0.85        64\n",
            "\n",
            "    accuracy                           0.89       171\n",
            "   macro avg       0.90      0.87      0.88       171\n",
            "weighted avg       0.90      0.89      0.89       171\n",
            "\n",
            "For classification report:\n",
            "              precision    recall  f1-score   support\n",
            "\n",
            "         2.0       0.91      0.98      0.94       107\n",
            "         4.0       0.96      0.83      0.89        64\n",
            "\n",
            "    accuracy                           0.92       171\n",
            "   macro avg       0.93      0.90      0.92       171\n",
            "weighted avg       0.93      0.92      0.92       171\n",
            "\n"
          ]
        }
      ]
    },
    {
      "cell_type": "markdown",
      "source": [],
      "metadata": {
        "id": "zzaG_kCclsA_"
      }
    },
    {
      "cell_type": "markdown",
      "source": [
        "# support vector machine"
      ],
      "metadata": {
        "id": "wbGzUNNHjnck"
      }
    },
    {
      "cell_type": "code",
      "source": [
        "from sklearn.model_selection import train_test_split\n",
        "X_train=[None]*len(x_class)\n",
        "X_test=[None]*len(x_class)\n",
        "y_train=[None]*len(x_class)\n",
        "y_test=[None]*len(x_class)\n",
        "for i in range(len(x_class)):\n",
        "  X_train[i], X_test[i], y_train[i], y_test[i] = train_test_split(x_class[i], y_class[i], test_size = 0.25, random_state = 0)"
      ],
      "metadata": {
        "id": "3atr2dOEjqvs"
      },
      "execution_count": null,
      "outputs": []
    },
    {
      "cell_type": "code",
      "source": [
        "from sklearn.preprocessing import StandardScaler\n",
        "sc = StandardScaler()\n",
        "for i in range(len(X_train)):\n",
        "  X_train[i] = sc.fit_transform(X_train[i])\n",
        "  X_test[i] = sc.transform(X_test[i])"
      ],
      "metadata": {
        "id": "bXRwqwV9kcSn"
      },
      "execution_count": null,
      "outputs": []
    },
    {
      "cell_type": "code",
      "source": [
        "from sklearn.svm import SVC\n",
        "\n",
        "classifiers=[None]*len(x_class)\n",
        "for i in range(len(x_class)):\n",
        "  classifiers[i]=SVC()\n",
        "  classifiers[i].fit(X_train[i], y_train[i])"
      ],
      "metadata": {
        "id": "SxwymlzBkeaI"
      },
      "execution_count": null,
      "outputs": []
    },
    {
      "cell_type": "code",
      "source": [
        "y_pred=[None]*len(X_train)\n",
        "for i in range(len(X_train)):\n",
        " y_pred[i] = classifiers[i].predict(X_test[i])"
      ],
      "metadata": {
        "id": "s8YtNb9rkh46"
      },
      "execution_count": null,
      "outputs": []
    },
    {
      "cell_type": "code",
      "source": [
        "  from sklearn.metrics import confusion_matrix\n",
        "  for i in range(5):\n",
        "    cm=confusion_matrix(y_test[i], y_pred[i])\n",
        "    print(cm)"
      ],
      "metadata": {
        "colab": {
          "base_uri": "https://localhost:8080/"
        },
        "id": "DVhsfhOTkkpG",
        "outputId": "52b7f512-f617-4f3a-d463-55e8f0d641cd"
      },
      "execution_count": null,
      "outputs": [
        {
          "output_type": "stream",
          "name": "stdout",
          "text": [
            "[[105   2]\n",
            " [ 61   3]]\n",
            "[[99  8]\n",
            " [55  9]]\n",
            "[[104   3]\n",
            " [ 60   4]]\n",
            "[[102   5]\n",
            " [ 44  20]]\n",
            "[[99  8]\n",
            " [38 26]]\n"
          ]
        }
      ]
    },
    {
      "cell_type": "code",
      "source": [
        "from sklearn.metrics import classification_report\n",
        "for i in range(5):\n",
        "  print(\"For classification report:\")\n",
        "  print(classification_report(y_test[i] , y_pred[i]))"
      ],
      "metadata": {
        "colab": {
          "base_uri": "https://localhost:8080/"
        },
        "id": "ELPDVkGokncP",
        "outputId": "9d925ce0-da71-4a71-ad95-1799848b495f"
      },
      "execution_count": null,
      "outputs": [
        {
          "output_type": "stream",
          "name": "stdout",
          "text": [
            "For classification report:\n",
            "              precision    recall  f1-score   support\n",
            "\n",
            "         2.0       0.63      0.98      0.77       107\n",
            "         4.0       0.60      0.05      0.09        64\n",
            "\n",
            "    accuracy                           0.63       171\n",
            "   macro avg       0.62      0.51      0.43       171\n",
            "weighted avg       0.62      0.63      0.51       171\n",
            "\n",
            "For classification report:\n",
            "              precision    recall  f1-score   support\n",
            "\n",
            "         2.0       0.64      0.93      0.76       107\n",
            "         4.0       0.53      0.14      0.22        64\n",
            "\n",
            "    accuracy                           0.63       171\n",
            "   macro avg       0.59      0.53      0.49       171\n",
            "weighted avg       0.60      0.63      0.56       171\n",
            "\n",
            "For classification report:\n",
            "              precision    recall  f1-score   support\n",
            "\n",
            "         2.0       0.63      0.97      0.77       107\n",
            "         4.0       0.57      0.06      0.11        64\n",
            "\n",
            "    accuracy                           0.63       171\n",
            "   macro avg       0.60      0.52      0.44       171\n",
            "weighted avg       0.61      0.63      0.52       171\n",
            "\n",
            "For classification report:\n",
            "              precision    recall  f1-score   support\n",
            "\n",
            "         2.0       0.70      0.95      0.81       107\n",
            "         4.0       0.80      0.31      0.45        64\n",
            "\n",
            "    accuracy                           0.71       171\n",
            "   macro avg       0.75      0.63      0.63       171\n",
            "weighted avg       0.74      0.71      0.67       171\n",
            "\n",
            "For classification report:\n",
            "              precision    recall  f1-score   support\n",
            "\n",
            "         2.0       0.72      0.93      0.81       107\n",
            "         4.0       0.76      0.41      0.53        64\n",
            "\n",
            "    accuracy                           0.73       171\n",
            "   macro avg       0.74      0.67      0.67       171\n",
            "weighted avg       0.74      0.73      0.71       171\n",
            "\n"
          ]
        }
      ]
    },
    {
      "cell_type": "markdown",
      "source": [
        "# Secondo block"
      ],
      "metadata": {
        "id": "cy99e2iwlw0g"
      }
    },
    {
      "cell_type": "markdown",
      "source": [
        "# Outlier Factor"
      ],
      "metadata": {
        "id": "G1ZtzCqXl08C"
      }
    },
    {
      "cell_type": "code",
      "source": [
        "dataframes=[None]*len(principalDf)\n",
        "for i in range(len(principalDf)):\n",
        "  dataframes[i] = pd.DataFrame(principalDf[i])\n",
        "\n",
        "dataframes[1]"
      ],
      "metadata": {
        "colab": {
          "base_uri": "https://localhost:8080/",
          "height": 424
        },
        "id": "wn6cl6Hezy1F",
        "outputId": "bb94ed17-b18d-48a7-9f2c-8bdc90bab165"
      },
      "execution_count": null,
      "outputs": [
        {
          "output_type": "execute_result",
          "data": {
            "text/plain": [
              "     principal component 1  principal component 2  principal component 3  \\\n",
              "0                -0.676264               1.298348              15.856436   \n",
              "1                -1.018220               0.046834              -9.786714   \n",
              "2                -0.868298               2.436771              -0.952903   \n",
              "3                -0.843469               0.123634               1.070098   \n",
              "4                -0.731695              -2.846780              -0.378917   \n",
              "..                     ...                    ...                    ...   \n",
              "678              -1.016035              -1.184801             -10.899699   \n",
              "679              -0.935107              -0.413288               0.520029   \n",
              "680              -0.279948               1.562382               1.421310   \n",
              "681              39.024702              21.033110              -2.052703   \n",
              "682              -0.884174               0.388707               1.335823   \n",
              "\n",
              "     principal component 4  principal component 5  principal component 6  \\\n",
              "0                 3.915137               7.416817              -1.955095   \n",
              "1                -0.321216               1.702680              -1.172001   \n",
              "2                 5.865943              -5.879044              -1.589407   \n",
              "3                -6.037202               7.412655              -3.697089   \n",
              "4                -3.120771              -1.585623              -3.447342   \n",
              "..                     ...                    ...                    ...   \n",
              "678               0.079570               2.523395              -3.625072   \n",
              "679               3.853229               6.812976              -0.354758   \n",
              "680              -8.064523              -1.957492              -1.713914   \n",
              "681               4.877840               2.045206               1.450606   \n",
              "682               0.613291              -0.702832              -1.390053   \n",
              "\n",
              "     principal component 7  \n",
              "0                -4.592960  \n",
              "1                -0.005440  \n",
              "2                -1.234986  \n",
              "3                 0.977033  \n",
              "4                 1.800894  \n",
              "..                     ...  \n",
              "678              -1.690955  \n",
              "679               1.432154  \n",
              "680               0.781570  \n",
              "681               8.033627  \n",
              "682              -1.483034  \n",
              "\n",
              "[683 rows x 7 columns]"
            ],
            "text/html": [
              "\n",
              "  <div id=\"df-4de81428-cf8a-4d19-9f2c-a0153b7ca62a\">\n",
              "    <div class=\"colab-df-container\">\n",
              "      <div>\n",
              "<style scoped>\n",
              "    .dataframe tbody tr th:only-of-type {\n",
              "        vertical-align: middle;\n",
              "    }\n",
              "\n",
              "    .dataframe tbody tr th {\n",
              "        vertical-align: top;\n",
              "    }\n",
              "\n",
              "    .dataframe thead th {\n",
              "        text-align: right;\n",
              "    }\n",
              "</style>\n",
              "<table border=\"1\" class=\"dataframe\">\n",
              "  <thead>\n",
              "    <tr style=\"text-align: right;\">\n",
              "      <th></th>\n",
              "      <th>principal component 1</th>\n",
              "      <th>principal component 2</th>\n",
              "      <th>principal component 3</th>\n",
              "      <th>principal component 4</th>\n",
              "      <th>principal component 5</th>\n",
              "      <th>principal component 6</th>\n",
              "      <th>principal component 7</th>\n",
              "    </tr>\n",
              "  </thead>\n",
              "  <tbody>\n",
              "    <tr>\n",
              "      <th>0</th>\n",
              "      <td>-0.676264</td>\n",
              "      <td>1.298348</td>\n",
              "      <td>15.856436</td>\n",
              "      <td>3.915137</td>\n",
              "      <td>7.416817</td>\n",
              "      <td>-1.955095</td>\n",
              "      <td>-4.592960</td>\n",
              "    </tr>\n",
              "    <tr>\n",
              "      <th>1</th>\n",
              "      <td>-1.018220</td>\n",
              "      <td>0.046834</td>\n",
              "      <td>-9.786714</td>\n",
              "      <td>-0.321216</td>\n",
              "      <td>1.702680</td>\n",
              "      <td>-1.172001</td>\n",
              "      <td>-0.005440</td>\n",
              "    </tr>\n",
              "    <tr>\n",
              "      <th>2</th>\n",
              "      <td>-0.868298</td>\n",
              "      <td>2.436771</td>\n",
              "      <td>-0.952903</td>\n",
              "      <td>5.865943</td>\n",
              "      <td>-5.879044</td>\n",
              "      <td>-1.589407</td>\n",
              "      <td>-1.234986</td>\n",
              "    </tr>\n",
              "    <tr>\n",
              "      <th>3</th>\n",
              "      <td>-0.843469</td>\n",
              "      <td>0.123634</td>\n",
              "      <td>1.070098</td>\n",
              "      <td>-6.037202</td>\n",
              "      <td>7.412655</td>\n",
              "      <td>-3.697089</td>\n",
              "      <td>0.977033</td>\n",
              "    </tr>\n",
              "    <tr>\n",
              "      <th>4</th>\n",
              "      <td>-0.731695</td>\n",
              "      <td>-2.846780</td>\n",
              "      <td>-0.378917</td>\n",
              "      <td>-3.120771</td>\n",
              "      <td>-1.585623</td>\n",
              "      <td>-3.447342</td>\n",
              "      <td>1.800894</td>\n",
              "    </tr>\n",
              "    <tr>\n",
              "      <th>...</th>\n",
              "      <td>...</td>\n",
              "      <td>...</td>\n",
              "      <td>...</td>\n",
              "      <td>...</td>\n",
              "      <td>...</td>\n",
              "      <td>...</td>\n",
              "      <td>...</td>\n",
              "    </tr>\n",
              "    <tr>\n",
              "      <th>678</th>\n",
              "      <td>-1.016035</td>\n",
              "      <td>-1.184801</td>\n",
              "      <td>-10.899699</td>\n",
              "      <td>0.079570</td>\n",
              "      <td>2.523395</td>\n",
              "      <td>-3.625072</td>\n",
              "      <td>-1.690955</td>\n",
              "    </tr>\n",
              "    <tr>\n",
              "      <th>679</th>\n",
              "      <td>-0.935107</td>\n",
              "      <td>-0.413288</td>\n",
              "      <td>0.520029</td>\n",
              "      <td>3.853229</td>\n",
              "      <td>6.812976</td>\n",
              "      <td>-0.354758</td>\n",
              "      <td>1.432154</td>\n",
              "    </tr>\n",
              "    <tr>\n",
              "      <th>680</th>\n",
              "      <td>-0.279948</td>\n",
              "      <td>1.562382</td>\n",
              "      <td>1.421310</td>\n",
              "      <td>-8.064523</td>\n",
              "      <td>-1.957492</td>\n",
              "      <td>-1.713914</td>\n",
              "      <td>0.781570</td>\n",
              "    </tr>\n",
              "    <tr>\n",
              "      <th>681</th>\n",
              "      <td>39.024702</td>\n",
              "      <td>21.033110</td>\n",
              "      <td>-2.052703</td>\n",
              "      <td>4.877840</td>\n",
              "      <td>2.045206</td>\n",
              "      <td>1.450606</td>\n",
              "      <td>8.033627</td>\n",
              "    </tr>\n",
              "    <tr>\n",
              "      <th>682</th>\n",
              "      <td>-0.884174</td>\n",
              "      <td>0.388707</td>\n",
              "      <td>1.335823</td>\n",
              "      <td>0.613291</td>\n",
              "      <td>-0.702832</td>\n",
              "      <td>-1.390053</td>\n",
              "      <td>-1.483034</td>\n",
              "    </tr>\n",
              "  </tbody>\n",
              "</table>\n",
              "<p>683 rows × 7 columns</p>\n",
              "</div>\n",
              "      <button class=\"colab-df-convert\" onclick=\"convertToInteractive('df-4de81428-cf8a-4d19-9f2c-a0153b7ca62a')\"\n",
              "              title=\"Convert this dataframe to an interactive table.\"\n",
              "              style=\"display:none;\">\n",
              "        \n",
              "  <svg xmlns=\"http://www.w3.org/2000/svg\" height=\"24px\"viewBox=\"0 0 24 24\"\n",
              "       width=\"24px\">\n",
              "    <path d=\"M0 0h24v24H0V0z\" fill=\"none\"/>\n",
              "    <path d=\"M18.56 5.44l.94 2.06.94-2.06 2.06-.94-2.06-.94-.94-2.06-.94 2.06-2.06.94zm-11 1L8.5 8.5l.94-2.06 2.06-.94-2.06-.94L8.5 2.5l-.94 2.06-2.06.94zm10 10l.94 2.06.94-2.06 2.06-.94-2.06-.94-.94-2.06-.94 2.06-2.06.94z\"/><path d=\"M17.41 7.96l-1.37-1.37c-.4-.4-.92-.59-1.43-.59-.52 0-1.04.2-1.43.59L10.3 9.45l-7.72 7.72c-.78.78-.78 2.05 0 2.83L4 21.41c.39.39.9.59 1.41.59.51 0 1.02-.2 1.41-.59l7.78-7.78 2.81-2.81c.8-.78.8-2.07 0-2.86zM5.41 20L4 18.59l7.72-7.72 1.47 1.35L5.41 20z\"/>\n",
              "  </svg>\n",
              "      </button>\n",
              "      \n",
              "  <style>\n",
              "    .colab-df-container {\n",
              "      display:flex;\n",
              "      flex-wrap:wrap;\n",
              "      gap: 12px;\n",
              "    }\n",
              "\n",
              "    .colab-df-convert {\n",
              "      background-color: #E8F0FE;\n",
              "      border: none;\n",
              "      border-radius: 50%;\n",
              "      cursor: pointer;\n",
              "      display: none;\n",
              "      fill: #1967D2;\n",
              "      height: 32px;\n",
              "      padding: 0 0 0 0;\n",
              "      width: 32px;\n",
              "    }\n",
              "\n",
              "    .colab-df-convert:hover {\n",
              "      background-color: #E2EBFA;\n",
              "      box-shadow: 0px 1px 2px rgba(60, 64, 67, 0.3), 0px 1px 3px 1px rgba(60, 64, 67, 0.15);\n",
              "      fill: #174EA6;\n",
              "    }\n",
              "\n",
              "    [theme=dark] .colab-df-convert {\n",
              "      background-color: #3B4455;\n",
              "      fill: #D2E3FC;\n",
              "    }\n",
              "\n",
              "    [theme=dark] .colab-df-convert:hover {\n",
              "      background-color: #434B5C;\n",
              "      box-shadow: 0px 1px 3px 1px rgba(0, 0, 0, 0.15);\n",
              "      filter: drop-shadow(0px 1px 2px rgba(0, 0, 0, 0.3));\n",
              "      fill: #FFFFFF;\n",
              "    }\n",
              "  </style>\n",
              "\n",
              "      <script>\n",
              "        const buttonEl =\n",
              "          document.querySelector('#df-4de81428-cf8a-4d19-9f2c-a0153b7ca62a button.colab-df-convert');\n",
              "        buttonEl.style.display =\n",
              "          google.colab.kernel.accessAllowed ? 'block' : 'none';\n",
              "\n",
              "        async function convertToInteractive(key) {\n",
              "          const element = document.querySelector('#df-4de81428-cf8a-4d19-9f2c-a0153b7ca62a');\n",
              "          const dataTable =\n",
              "            await google.colab.kernel.invokeFunction('convertToInteractive',\n",
              "                                                     [key], {});\n",
              "          if (!dataTable) return;\n",
              "\n",
              "          const docLinkHtml = 'Like what you see? Visit the ' +\n",
              "            '<a target=\"_blank\" href=https://colab.research.google.com/notebooks/data_table.ipynb>data table notebook</a>'\n",
              "            + ' to learn more about interactive tables.';\n",
              "          element.innerHTML = '';\n",
              "          dataTable['output_type'] = 'display_data';\n",
              "          await google.colab.output.renderOutput(dataTable, element);\n",
              "          const docLink = document.createElement('div');\n",
              "          docLink.innerHTML = docLinkHtml;\n",
              "          element.appendChild(docLink);\n",
              "        }\n",
              "      </script>\n",
              "    </div>\n",
              "  </div>\n",
              "  "
            ]
          },
          "metadata": {},
          "execution_count": 89
        }
      ]
    },
    {
      "cell_type": "code",
      "source": [
        "def LOF_outlier_detection(X):\n",
        "    data = X\n",
        "    # requires no missing value\n",
        "    # select top 10 outliers\n",
        "    from sklearn.neighbors import LocalOutlierFactor\n",
        "\n",
        "    # fit the model for outlier detection (default)\n",
        "    clf = LocalOutlierFactor(n_neighbors=3, contamination=0.5)\n",
        "\n",
        "    clf.fit_predict(X)\n",
        "\n",
        "    LOF_scores = clf.negative_outlier_factor_\n",
        "    # Outliers tend to have a negative score far from -1\n",
        "\n",
        "    #print(LOF_scores)\n",
        "\n",
        "    non_outliers = X[LOF_scores >= -1.5] # outliers tend to have a score far from -1\n",
        "    return non_outliers\n",
        "\n",
        "\n",
        "dataset_fromLOF=dataframes\n",
        "for i in range(len(dataframes)):\n",
        "  dataset_fromLOF[i] = LOF_outlier_detection(dataframes[i])\n",
        "  print(len(dataset_fromLOF[i]))"
      ],
      "metadata": {
        "colab": {
          "base_uri": "https://localhost:8080/"
        },
        "id": "x5jcUMS1l7iZ",
        "outputId": "79417a5f-27f7-4df7-ba2d-d7b1677d5b18"
      },
      "execution_count": null,
      "outputs": [
        {
          "output_type": "stream",
          "name": "stdout",
          "text": [
            "611\n",
            "580\n",
            "470\n",
            "442\n",
            "490\n"
          ]
        }
      ]
    },
    {
      "cell_type": "code",
      "source": [
        "data_temp=[None]*len(dataframes)\n",
        "for i in range(len(dataframes)):\n",
        "  data_temp[i]=np.array(dataframes[i])\n",
        "\n",
        "dataset_from_lof=[]\n",
        "for i in range(len(data_temp)):\n",
        "  if(i not in LOF_outliers):\n",
        "    dataset_from_lof.append(data_temp[i,:])\n",
        "\n",
        "dataset_from_lof=np.array(dataset_from_lof)\n",
        "dataset_from_lof.shape\n",
        "\n",
        "prova=pd.DataFrame(dataset_from_lof)\n",
        "prova.boxplot(figsize=(8,24))"
      ],
      "metadata": {
        "colab": {
          "base_uri": "https://localhost:8080/",
          "height": 244
        },
        "id": "1tyui4rh-vDb",
        "outputId": "a146c64b-def8-4d90-a192-7cb1d3f89422"
      },
      "execution_count": null,
      "outputs": [
        {
          "output_type": "error",
          "ename": "NameError",
          "evalue": "ignored",
          "traceback": [
            "\u001b[0;31m---------------------------------------------------------------------------\u001b[0m",
            "\u001b[0;31mNameError\u001b[0m                                 Traceback (most recent call last)",
            "\u001b[0;32m<ipython-input-91-977ae2f77bdf>\u001b[0m in \u001b[0;36m<module>\u001b[0;34m\u001b[0m\n\u001b[1;32m      5\u001b[0m \u001b[0mdataset_from_lof\u001b[0m\u001b[0;34m=\u001b[0m\u001b[0;34m[\u001b[0m\u001b[0;34m]\u001b[0m\u001b[0;34m\u001b[0m\u001b[0;34m\u001b[0m\u001b[0m\n\u001b[1;32m      6\u001b[0m \u001b[0;32mfor\u001b[0m \u001b[0mi\u001b[0m \u001b[0;32min\u001b[0m \u001b[0mrange\u001b[0m\u001b[0;34m(\u001b[0m\u001b[0mlen\u001b[0m\u001b[0;34m(\u001b[0m\u001b[0mdata_temp\u001b[0m\u001b[0;34m)\u001b[0m\u001b[0;34m)\u001b[0m\u001b[0;34m:\u001b[0m\u001b[0;34m\u001b[0m\u001b[0;34m\u001b[0m\u001b[0m\n\u001b[0;32m----> 7\u001b[0;31m   \u001b[0;32mif\u001b[0m\u001b[0;34m(\u001b[0m\u001b[0mi\u001b[0m \u001b[0;32mnot\u001b[0m \u001b[0;32min\u001b[0m \u001b[0mLOF_outliers\u001b[0m\u001b[0;34m)\u001b[0m\u001b[0;34m:\u001b[0m\u001b[0;34m\u001b[0m\u001b[0;34m\u001b[0m\u001b[0m\n\u001b[0m\u001b[1;32m      8\u001b[0m     \u001b[0mdataset_from_lof\u001b[0m\u001b[0;34m.\u001b[0m\u001b[0mappend\u001b[0m\u001b[0;34m(\u001b[0m\u001b[0mdata_temp\u001b[0m\u001b[0;34m[\u001b[0m\u001b[0mi\u001b[0m\u001b[0;34m,\u001b[0m\u001b[0;34m:\u001b[0m\u001b[0;34m]\u001b[0m\u001b[0;34m)\u001b[0m\u001b[0;34m\u001b[0m\u001b[0;34m\u001b[0m\u001b[0m\n\u001b[1;32m      9\u001b[0m \u001b[0;34m\u001b[0m\u001b[0m\n",
            "\u001b[0;31mNameError\u001b[0m: name 'LOF_outliers' is not defined"
          ]
        }
      ]
    },
    {
      "cell_type": "markdown",
      "source": [
        "# z-score"
      ],
      "metadata": {
        "id": "xi22_AkB3U6G"
      }
    },
    {
      "cell_type": "code",
      "source": [],
      "metadata": {
        "id": "rkGLzcGb3YdZ"
      },
      "execution_count": null,
      "outputs": []
    },
    {
      "cell_type": "code",
      "source": [],
      "metadata": {
        "id": "ZLI-YDPWl4O_",
        "colab": {
          "base_uri": "https://localhost:8080/"
        },
        "outputId": "df770079-0ec2-4ff1-ed98-03d7afa65b13"
      },
      "execution_count": null,
      "outputs": [
        {
          "output_type": "execute_result",
          "data": {
            "text/plain": [
              "(683,)"
            ]
          },
          "metadata": {},
          "execution_count": 29
        }
      ]
    },
    {
      "cell_type": "code",
      "source": [
        "def ZSB(data,data2,threshold):\n",
        "    # Robust Zscore as a function of median and median\n",
        "    # mean absolute deviation (MAD) defined as\n",
        "    # z-score = |x – median(x)| / mad(x)\n",
        "    indexes=[]\n",
        "    for i in range(10):\n",
        "      mean = np.mean(data[:,i])\n",
        "      sd = np.std(data[:,i])\n",
        "      modified_z_scores = (data2[:,i] - mean) / sd\n",
        "      for j in range(len(modified_z_scores)):\n",
        "        if (abs(modified_z_scores[j])>threshold):\n",
        "          indexes.append(j)\n",
        "\n",
        "    final=[*set(indexes)]\n",
        "    final.sort(reverse = True)\n",
        "    for i in final:\n",
        "      data=np.delete(data,i,axis=0)\n",
        "\n",
        "    return data\n",
        "\n",
        "z_outliers=[None]*5\n",
        "for i in range(len(dataset)):\n",
        "  z_outliers[i]=ZSB(dataset[i],scaled[i],1.9)\n",
        "  print(z_outliers[i].shape)"
      ],
      "metadata": {
        "id": "xgo-kzFJ3fAA",
        "colab": {
          "base_uri": "https://localhost:8080/"
        },
        "outputId": "f5639acc-a42f-4bd4-d662-b1e8e06fdd20"
      },
      "execution_count": null,
      "outputs": [
        {
          "output_type": "stream",
          "name": "stdout",
          "text": [
            "(239, 10)\n",
            "(239, 10)\n",
            "(209, 10)\n",
            "(213, 10)\n",
            "(217, 10)\n"
          ]
        }
      ]
    },
    {
      "cell_type": "markdown",
      "source": [
        "# Hierarchical clustering"
      ],
      "metadata": {
        "id": "1oBkZYHB4Nr5"
      }
    },
    {
      "cell_type": "code",
      "source": [
        "from scipy.cluster.hierarchy import dendrogram, linkage, fcluster, inconsistent\n",
        "import matplotlib.pyplot as plt\n",
        "\n",
        "for i in range(len(principalDf)):\n",
        "  Z = linkage(scaled[i], 'single')\n",
        "\n",
        "  plt.figure(figsize=(25, 10))\n",
        "  plt.title('Hierarchical Clustering Dendrogram')\n",
        "  plt.xlabel('Sample Index')\n",
        "  plt.ylabel('Distance')\n",
        "  dendrogram(Z,\n",
        "      leaf_rotation=90.,  # rotates the x axis labels\n",
        "      leaf_font_size=8.,  # font size for the x axis labels\n",
        "  )\n",
        "  plt.xticks([])\n",
        "  plt.show()"
      ],
      "metadata": {
        "colab": {
          "base_uri": "https://localhost:8080/",
          "height": 1000
        },
        "id": "mNt6iwaiw2xn",
        "outputId": "765b7663-9b3d-4a12-90cb-fa0a5f4f2db3"
      },
      "execution_count": null,
      "outputs": [
        {
          "output_type": "display_data",
          "data": {
            "text/plain": [
              "<Figure size 1800x720 with 1 Axes>"
            ],
            "image/png": "[encoded data removed]"
          },
          "metadata": {
            "needs_background": "light"
          }
        },
        {
          "output_type": "display_data",
          "data": {
            "text/plain": [
              "<Figure size 1800x720 with 1 Axes>"
            ],
            "image/png": "[encoded data removed]"
          },
          "metadata": {
            "needs_background": "light"
          }
        },
        {
          "output_type": "display_data",
          "data": {
            "text/plain": [
              "<Figure size 1800x720 with 1 Axes>"
            ],
            "image/png": "[encoded data removed]"
          },
          "metadata": {
            "needs_background": "light"
          }
        },
        {
          "output_type": "display_data",
          "data": {
            "text/plain": [
              "<Figure size 1800x720 with 1 Axes>"
            ],
            "image/png": "[encoded data removed]"
          },
          "metadata": {
            "needs_background": "light"
          }
        },
        {
          "output_type": "display_data",
          "data": {
            "text/plain": [
              "<Figure size 1800x720 with 1 Axes>"
            ],
            "image/png": "[encoded data removed]"
          },
          "metadata": {
            "needs_background": "light"
          }
        }
      ]
    },
    {
      "cell_type": "code",
      "source": [
        "from sklearn.cluster import AgglomerativeClustering\n",
        "\n",
        "dataset_prova=[None]*len(principalDf)\n",
        "\n",
        "for i in range(len(principalDf)):\n",
        "  cluster = AgglomerativeClustering(n_clusters=3, affinity='euclidean', linkage='single')\n",
        "  results = cluster.fit_predict(principalDf[i])\n",
        "  dataset_prova[i] = principalDf[i][results == 0]\n",
        "  print(len(dataset_prova[i]))\n",
        "  unique, counts = np.unique(results, return_counts=True)\n",
        "  print(unique, counts)\n",
        "  print()"
      ],
      "metadata": {
        "id": "PdPPh5Je4R3F",
        "colab": {
          "base_uri": "https://localhost:8080/"
        },
        "outputId": "3ba47592-dcca-4184-c6e3-784158442750"
      },
      "execution_count": null,
      "outputs": [
        {
          "output_type": "stream",
          "name": "stdout",
          "text": [
            "681\n",
            "[0 1 2] [681   1   1]\n",
            "\n",
            "681\n",
            "[0 1 2] [681   1   1]\n",
            "\n",
            "681\n",
            "[0 1 2] [681   1   1]\n",
            "\n",
            "681\n",
            "[0 1 2] [681   1   1]\n",
            "\n",
            "681\n",
            "[0 1 2] [681   1   1]\n",
            "\n"
          ]
        }
      ]
    },
    {
      "cell_type": "markdown",
      "source": [
        "# IQR"
      ],
      "metadata": {
        "id": "4A-YnvpTEd4Y"
      }
    },
    {
      "cell_type": "code",
      "source": [
        "from sklearn.neighbors import NearestNeighbors"
      ],
      "metadata": {
        "id": "if-Cp71fmMBs"
      },
      "execution_count": null,
      "outputs": []
    },
    {
      "cell_type": "code",
      "source": [
        "data=scaled.copy()\n",
        "for i in range(5):\n",
        "  data[i]=pd.DataFrame(data[i])"
      ],
      "metadata": {
        "id": "fjOIqPedqjj0"
      },
      "execution_count": null,
      "outputs": []
    },
    {
      "cell_type": "code",
      "source": [
        "outlier_values=[None]*5\n",
        "for i in range(5):\n",
        "\n",
        "  # instantiate model\n",
        "  nbrs = NearestNeighbors(n_neighbors = 2)\n",
        "  # fit model\n",
        "  nbrs.fit(data[i])\n",
        "  # distances and indexes of k-neaighbors from model outputs\n",
        "  distances, indexes = nbrs.kneighbors(scaled[i])\n",
        "  # plot mean of k-distances of each observation\n",
        "  plt.plot(distances.mean(axis =1))\n",
        "\n",
        "  # visually determine cutoff values > 0.25\n",
        "  outlier_index = np.where(distances.mean(axis = 1) > 0.50)\n",
        "  outlier_values[i] = data[i].iloc[outlier_index]\n",
        "  print(len(outlier_values[i]))\n"
      ],
      "metadata": {
        "colab": {
          "base_uri": "https://localhost:8080/",
          "height": 356
        },
        "id": "gufKMEeoEmXq",
        "outputId": "2061074b-ecb7-441d-bbdf-b435cf2054e5"
      },
      "execution_count": null,
      "outputs": [
        {
          "output_type": "stream",
          "name": "stdout",
          "text": [
            "675\n",
            "677\n",
            "629\n",
            "558\n",
            "479\n"
          ]
        },
        {
          "output_type": "display_data",
          "data": {
            "text/plain": [
              "<Figure size 432x288 with 1 Axes>"
            ],
            "image/png": "[encoded data removed]"
          },
          "metadata": {
            "needs_background": "light"
          }
        }
      ]
    },
    {
      "cell_type": "code",
      "source": [
        "dataframes=[None]*len(dataset)\n",
        "for i in range(len(dataset)):\n",
        "  dataframes[i] = pd.DataFrame(scaled[i])\n",
        ""
      ],
      "metadata": {
        "id": "a-ze4GQW57Dl"
      },
      "execution_count": null,
      "outputs": []
    },
    {
      "cell_type": "code",
      "source": [
        "dataframes[4].to_csv('provings.csv')"
      ],
      "metadata": {
        "id": "rN--3T5W7VYh"
      },
      "execution_count": null,
      "outputs": []
    },
    {
      "cell_type": "code",
      "source": [
        "data_red\n",
        "dataframe = pd.DataFrame(data_red[4])\n",
        "\n",
        "\n",
        "\n",
        "bp =dataframe.boxplot()"
      ],
      "metadata": {
        "colab": {
          "base_uri": "https://localhost:8080/",
          "height": 265
        },
        "id": "grBC8ds8HJBM",
        "outputId": "fb089401-7615-453b-bb2f-1e3ff4d54416"
      },
      "execution_count": null,
      "outputs": [
        {
          "output_type": "display_data",
          "data": {
            "text/plain": [
              "<Figure size 432x288 with 1 Axes>"
            ],
            "image/png": "[encoded data removed]"
          },
          "metadata": {
            "needs_background": "light"
          }
        }
      ]
    },
    {
      "cell_type": "code",
      "source": [
        "data_mod = cancer_injected.copy()"
      ],
      "metadata": {
        "id": "l__SL05LHKRe"
      },
      "execution_count": null,
      "outputs": []
    },
    {
      "cell_type": "code",
      "source": [
        "from sklearn.preprocessing import LabelEncoder, StandardScaler, OneHotEncoder, RobustScaler\n",
        "\n",
        "for j in range(5):\n",
        "  data_types = data_mod[j].dtypes\n",
        "  encoders = [None]*len(data_types)\n",
        "  for i in range(len(data_types)):\n",
        "    if data_types[i] == object:\n",
        "      encoders[i] = LabelEncoder()\n",
        "      data_mod[j].iloc[:,i] = encoders[i].fit_transform(data_mod[j].iloc[:,i])"
      ],
      "metadata": {
        "id": "PabvP9buHKbv"
      },
      "execution_count": null,
      "outputs": []
    },
    {
      "cell_type": "code",
      "source": [
        "data_red = data_mod.copy()"
      ],
      "metadata": {
        "id": "FX2uu_XLHKqU"
      },
      "execution_count": null,
      "outputs": []
    },
    {
      "cell_type": "code",
      "source": [
        "import seaborn as sns\n",
        "import matplotlib.pyplot as plt\n",
        "\n",
        "j=dataframes[1]\n",
        "myFig = plt.figure();\n",
        "bp =j.boxplot()\n",
        "myFig.savefig(\"myName1.svg\", format=\"svg\")\n"
      ],
      "metadata": {
        "colab": {
          "base_uri": "https://localhost:8080/",
          "height": 265
        },
        "id": "knRa7hn1qU_w",
        "outputId": "b124b616-590d-4bd6-87ed-8ede4b06f555"
      },
      "execution_count": null,
      "outputs": [
        {
          "output_type": "display_data",
          "data": {
            "text/plain": [
              "<Figure size 432x288 with 1 Axes>"
            ],
            "image/png": "[encoded data removed]"
          },
          "metadata": {
            "needs_background": "light"
          }
        }
      ]
    }
  ]
}